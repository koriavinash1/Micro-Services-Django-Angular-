{
 "cells": [
  {
   "cell_type": "code",
   "execution_count": 1,
   "metadata": {},
   "outputs": [
    {
     "name": "stderr",
     "output_type": "stream",
     "text": [
      "Using TensorFlow backend.\n"
     ]
    }
   ],
   "source": [
    "from keras.models import Sequential, Model\n",
    "from keras.layers.embeddings import Embedding\n",
    "from keras.layers import Input, Activation, Dense, Permute, Dropout, add, dot, concatenate\n",
    "from keras.layers import LSTM\n",
    "from keras.utils.data_utils import get_file\n",
    "from keras.preprocessing.sequence import pad_sequences\n",
    "from functools import reduce\n",
    "import tarfile\n",
    "import numpy as np\n",
    "import re"
   ]
  },
  {
   "cell_type": "code",
   "execution_count": 2,
   "metadata": {
    "collapsed": true
   },
   "outputs": [],
   "source": [
    "def tokenize(sentence):\n",
    "    return [x.strip() for x in re.split('(\\W+)?', sentence) if x.strip()]"
   ]
  },
  {
   "cell_type": "code",
   "execution_count": 3,
   "metadata": {
    "collapsed": true
   },
   "outputs": [],
   "source": [
    "def parse_stories(lines, only_supporting=False):\n",
    "    data = []\n",
    "    story = []\n",
    "    for line in lines:\n",
    "        line = line.decode('utf-8').strip()\n",
    "        nid, line = line.split(' ', 1)\n",
    "        nid = int(nid)\n",
    "        if nid == 1:\n",
    "            story = []\n",
    "        if '\\t' in line:\n",
    "            q, a, supporting = line.split('\\t')\n",
    "            q = tokenize(q)\n",
    "            substory = None\n",
    "            if only_supporting:\n",
    "                # Only select the related substory\n",
    "                supporting = map(int, supporting.split())\n",
    "                substory = [story[i - 1] for i in supporting]\n",
    "            else:\n",
    "                # Provide all the substories\n",
    "                substory = [x for x in story if x]\n",
    "            data.append((substory, q, a))\n",
    "            story.append('')\n",
    "        else:\n",
    "            sent = tokenize(line)\n",
    "            story.append(sent)\n",
    "    return data"
   ]
  },
  {
   "cell_type": "code",
   "execution_count": 18,
   "metadata": {
    "collapsed": true
   },
   "outputs": [],
   "source": [
    "def vectorize_stories(data, word_idx, story_maxlen, query_maxlen):\n",
    "    X = []\n",
    "    Xq = []\n",
    "    Y = []\n",
    "    for story, query, answer in data:\n",
    "        x = [word_idx[w] for w in story]\n",
    "        xq = [word_idx[w] for w in query]\n",
    "        # let's not forget that index 0 is reserved\n",
    "        y = np.zeros(len(word_idx) + 1)\n",
    "        y[word_idx[answer]] = 1\n",
    "        X.append(x)\n",
    "        Xq.append(xq)\n",
    "        Y.append(y)\n",
    "    return (pad_sequences(X, maxlen=story_maxlen),\n",
    "            pad_sequences(Xq, maxlen=query_maxlen), np.array(Y))"
   ]
  },
  {
   "cell_type": "code",
   "execution_count": 19,
   "metadata": {},
   "outputs": [],
   "source": [
    "# Download dataset and extract it\n",
    "try:\n",
    "    path = get_file('babi-tasks-v1-2.tar.gz', origin='https://s3.amazonaws.com/text-datasets/babi_tasks_1-20_v1-2.tar.gz')\n",
    "except:\n",
    "    print('Error downloading dataset, please download it manually:\\n'\n",
    "          '$ wget http://www.thespermwhale.com/jaseweston/babi/tasks_1-20_v1-2.tar.gz\\n'\n",
    "          '$ mv tasks_1-20_v1-2.tar.gz ~/.keras/datasets/babi-tasks-v1-2.tar.gz')\n",
    "    raise\n",
    "tar = tarfile.open(path)"
   ]
  },
  {
   "cell_type": "code",
   "execution_count": 45,
   "metadata": {
    "collapsed": true
   },
   "outputs": [],
   "source": [
    "def get_stories(f, only_supporting=False, max_length=None):\n",
    "    '''Given a file name, read the file,\n",
    "    retrieve the stories,\n",
    "    and then convert the sentences into a single story.\n",
    "    If max_length is supplied,\n",
    "    any stories longer than max_length tokens will be discarded.\n",
    "    '''\n",
    "    data = parse_stories(f.readlines(), only_supporting=only_supporting)\n",
    "#     print data\n",
    "    flatten = lambda data: reduce(lambda x, y: x + y, data)\n",
    "#     print(flatten)\n",
    "    data = [(flatten(story), q, answer) for story, q, answer in data if not max_length or len(flatten(story)) < max_length]\n",
    "    return data"
   ]
  },
  {
   "cell_type": "code",
   "execution_count": 46,
   "metadata": {},
   "outputs": [
    {
     "name": "stdout",
     "output_type": "stream",
     "text": [
      "('Extracting stories for the challenge:', 'single_supporting_fact_10k')\n"
     ]
    }
   ],
   "source": [
    "challenges = {\n",
    "    # QA1 with 10,000 samples\n",
    "    'single_supporting_fact_10k': 'tasks_1-20_v1-2/en-10k/qa1_single-supporting-fact_{}.txt',\n",
    "    # QA2 with 10,000 samples\n",
    "    'two_supporting_facts_10k': 'tasks_1-20_v1-2/en-10k/qa2_two-supporting-facts_{}.txt',\n",
    "}\n",
    "challenge_type = 'single_supporting_fact_10k'\n",
    "challenge = challenges[challenge_type]\n",
    "\n",
    "print('Extracting stories for the challenge:', challenge_type)\n",
    "train_stories = get_stories(tar.extractfile(challenge.format('train')))\n",
    "test_stories = get_stories(tar.extractfile(challenge.format('test')))\n",
    "# test_stories"
   ]
  },
  {
   "cell_type": "code",
   "execution_count": 15,
   "metadata": {},
   "outputs": [
    {
     "data": {
      "text/plain": [
       "'11 Daniel travelled to the office.\\n'"
      ]
     },
     "execution_count": 15,
     "metadata": {},
     "output_type": "execute_result"
    }
   ],
   "source": [
    "tar.extractfile(challenge.format('train')).readlines()[10]"
   ]
  },
  {
   "cell_type": "code",
   "execution_count": 10,
   "metadata": {},
   "outputs": [
    {
     "name": "stdout",
     "output_type": "stream",
     "text": [
      "[u'.', u'?', u'Daniel', u'John', u'Mary', u'Sandra', u'Where', u'back', u'bathroom', u'bedroom', u'garden', u'hallway', u'is', u'journeyed', u'kitchen', u'moved', u'office', u'the', u'to', u'travelled', u'went']\n"
     ]
    }
   ],
   "source": [
    "vocab = set()\n",
    "for story, q, answer in train_stories + test_stories:\n",
    "    vocab |= set(story + q + [answer])\n",
    "vocab = sorted(vocab)\n",
    "\n",
    "print vocab"
   ]
  },
  {
   "cell_type": "code",
   "execution_count": 16,
   "metadata": {},
   "outputs": [
    {
     "name": "stdout",
     "output_type": "stream",
     "text": [
      "68 4\n"
     ]
    }
   ],
   "source": [
    "# Reserve 0 for masking via pad_sequences\n",
    "vocab_size = len(vocab) + 1\n",
    "story_maxlen = max(map(len, (x for x, _, _ in train_stories + test_stories)))\n",
    "query_maxlen = max(map(len, (x for _, x, _ in train_stories + test_stories)))\n",
    "print story_maxlen, query_maxlen"
   ]
  },
  {
   "cell_type": "code",
   "execution_count": 24,
   "metadata": {},
   "outputs": [
    {
     "data": {
      "text/plain": [
       "{u'.': 1,\n",
       " u'?': 2,\n",
       " u'Daniel': 3,\n",
       " u'John': 4,\n",
       " u'Mary': 5,\n",
       " u'Sandra': 6,\n",
       " u'Where': 7,\n",
       " u'back': 8,\n",
       " u'bathroom': 9,\n",
       " u'bedroom': 10,\n",
       " u'garden': 11,\n",
       " u'hallway': 12,\n",
       " u'is': 13,\n",
       " u'journeyed': 14,\n",
       " u'kitchen': 15,\n",
       " u'moved': 16,\n",
       " u'office': 17,\n",
       " u'the': 18,\n",
       " u'to': 19,\n",
       " u'travelled': 20,\n",
       " u'went': 21}"
      ]
     },
     "execution_count": 24,
     "metadata": {},
     "output_type": "execute_result"
    }
   ],
   "source": [
    "dict((c, i + 1) for i, c in enumerate(vocab))"
   ]
  },
  {
   "cell_type": "code",
   "execution_count": 47,
   "metadata": {},
   "outputs": [
    {
     "name": "stdout",
     "output_type": "stream",
     "text": [
      "----------------------------------------------------------------------------------------------------\n",
      "('Vocab size:', 22, 'unique words')\n",
      "('Story max length:', 68, 'words')\n",
      "('Query max length:', 4, 'words')\n",
      "('Number of training stories:', 10000)\n",
      "('Number of test stories:', 1000)\n",
      "----------------------------------------------------------------------------------------------------\n",
      "Here's what a \"story\" tuple looks like (input, query, answer):\n",
      "([u'Mary', u'moved', u'to', u'the', u'bathroom', u'.', u'John', u'went', u'to', u'the', u'hallway', u'.'], [u'Where', u'is', u'Mary', u'?'], u'bathroom')\n",
      "----------------------------------------------------------------------------------------------------\n",
      "Vectorizing the word sequences...\n",
      "----------------------------------------------------------------------------------------------------\n",
      "inputs: integer tensor of shape (samples, max_length)\n",
      "('inputs_train shape:', (10000, 68))\n",
      "('inputs_test shape:', (1000, 68))\n",
      "----------------------------------------------------------------------------------------------------\n",
      "queries: integer tensor of shape (samples, max_length)\n",
      "('queries_train shape:', (10000, 4))\n",
      "('queries_test shape:', (1000, 4))\n",
      "----------------------------------------------------------------------------------------------------\n",
      "answers: binary (1 or 0) tensor of shape (samples, vocab_size)\n",
      "('answers_train shape:', (10000, 22))\n",
      "('answers_test shape:', (1000, 22))\n",
      "----------------------------------------------------------------------------------------------------\n",
      "Compiling...\n"
     ]
    }
   ],
   "source": [
    "print('-'*100)\n",
    "print('Vocab size:', vocab_size, 'unique words')\n",
    "print('Story max length:', story_maxlen, 'words')\n",
    "print('Query max length:', query_maxlen, 'words')\n",
    "print('Number of training stories:', len(train_stories))\n",
    "print('Number of test stories:', len(test_stories))\n",
    "print('-'*100)\n",
    "print('Here\\'s what a \"story\" tuple looks like (input, query, answer):')\n",
    "print(train_stories[0])\n",
    "print('-'*100)\n",
    "print('Vectorizing the word sequences...')\n",
    "\n",
    "word_idx = dict((c, i + 1) for i, c in enumerate(vocab))\n",
    "inputs_train, queries_train, answers_train = vectorize_stories(train_stories,\n",
    "                                                               word_idx,\n",
    "                                                               story_maxlen,\n",
    "                                                               query_maxlen)\n",
    "inputs_test, queries_test, answers_test = vectorize_stories(test_stories,\n",
    "                                                            word_idx,\n",
    "                                                            story_maxlen,\n",
    "                                                            query_maxlen)\n",
    "\n",
    "print('-'*100)\n",
    "print('inputs: integer tensor of shape (samples, max_length)')\n",
    "print('inputs_train shape:', inputs_train.shape)\n",
    "print('inputs_test shape:', inputs_test.shape)\n",
    "print('-'*100)\n",
    "print('queries: integer tensor of shape (samples, max_length)')\n",
    "print('queries_train shape:', queries_train.shape)\n",
    "print('queries_test shape:', queries_test.shape)\n",
    "print('-'*100)\n",
    "print('answers: binary (1 or 0) tensor of shape (samples, vocab_size)')\n",
    "print('answers_train shape:', answers_train.shape)\n",
    "print('answers_test shape:', answers_test.shape)\n",
    "print('-'*100)\n",
    "print('Compiling...')"
   ]
  },
  {
   "cell_type": "code",
   "execution_count": 23,
   "metadata": {},
   "outputs": [
    {
     "data": {
      "text/plain": [
       "(10000, 68)"
      ]
     },
     "execution_count": 23,
     "metadata": {},
     "output_type": "execute_result"
    }
   ],
   "source": [
    "inputs_train.shape"
   ]
  },
  {
   "cell_type": "code",
   "execution_count": 21,
   "metadata": {
    "collapsed": true
   },
   "outputs": [],
   "source": [
    "# placeholders\n",
    "input_sequence = Input((story_maxlen,))\n",
    "question = Input((query_maxlen,))\n",
    "\n",
    "# encoders\n",
    "# embed the input sequence into a sequence of vectors\n",
    "input_encoder_m = Sequential()\n",
    "input_encoder_m.add(Embedding(input_dim=vocab_size,\n",
    "                              output_dim=64))\n",
    "input_encoder_m.add(Dropout(0.3))\n",
    "# output: (samples, story_maxlen, embedding_dim)\n",
    "\n",
    "# embed the input into a sequence of vectors of size query_maxlen\n",
    "input_encoder_c = Sequential()\n",
    "input_encoder_c.add(Embedding(input_dim=vocab_size,\n",
    "                              output_dim=query_maxlen))\n",
    "input_encoder_c.add(Dropout(0.3))\n",
    "# output: (samples, story_maxlen, query_maxlen)\n",
    "\n",
    "# embed the question into a sequence of vectors\n",
    "question_encoder = Sequential()\n",
    "question_encoder.add(Embedding(input_dim=vocab_size,\n",
    "                               output_dim=64,\n",
    "                               input_length=query_maxlen))\n",
    "question_encoder.add(Dropout(0.3))\n",
    "# output: (samples, query_maxlen, embedding_dim)\n",
    "\n",
    "# encode input sequence and questions (which are indices)\n",
    "# to sequences of dense vectors\n",
    "input_encoded_m = input_encoder_m(input_sequence)\n",
    "input_encoded_c = input_encoder_c(input_sequence)\n",
    "question_encoded = question_encoder(question)\n",
    "\n",
    "# compute a 'match' between the first input vector sequence\n",
    "# and the question vector sequence\n",
    "# shape: `(samples, story_maxlen, query_maxlen)`\n",
    "match = dot([input_encoded_m, question_encoded], axes=(2, 2))\n",
    "match = Activation('softmax')(match)\n",
    "\n",
    "# add the match matrix with the second input vector sequence\n",
    "response = add([match, input_encoded_c])  # (samples, story_maxlen, query_maxlen)\n",
    "response = Permute((2, 1))(response)  # (samples, query_maxlen, story_maxlen)\n",
    "\n",
    "# concatenate the match matrix with the question vector sequence\n",
    "answer = concatenate([response, question_encoded])\n",
    "\n",
    "# the original paper uses a matrix multiplication for this reduction step.\n",
    "# we choose to use a RNN instead.\n",
    "answer = LSTM(32)(answer)  # (samples, 32)\n",
    "\n",
    "# one regularization layer -- more would probably be needed.\n",
    "answer = Dropout(0.3)(answer)\n",
    "answer = Dense(vocab_size)(answer)  # (samples, vocab_size)\n",
    "# we output a probability distribution over the vocabulary\n",
    "answer = Activation('softmax')(answer)\n",
    "\n",
    "# build the final model\n",
    "model = Model([input_sequence, question], answer)\n",
    "model.compile(optimizer='rmsprop', loss='categorical_crossentropy', metrics=['accuracy', 'mse'])\n"
   ]
  },
  {
   "cell_type": "code",
   "execution_count": 25,
   "metadata": {
    "scrolled": true
   },
   "outputs": [
    {
     "name": "stdout",
     "output_type": "stream",
     "text": [
      "Train on 10000 samples, validate on 1000 samples\n",
      "Epoch 1/120\n",
      "10000/10000 [==============================] - 3s - loss: 1.9369 - acc: 0.1683 - mean_squared_error: 0.0389 - val_loss: 1.7947 - val_acc: 0.2220 - val_mean_squared_error: 0.0378\n",
      "Epoch 2/120\n",
      "10000/10000 [==============================] - 2s - loss: 1.7483 - acc: 0.2320 - mean_squared_error: 0.0371 - val_loss: 1.6306 - val_acc: 0.3260 - val_mean_squared_error: 0.0354\n",
      "Epoch 3/120\n",
      "10000/10000 [==============================] - 1s - loss: 1.5927 - acc: 0.3433 - mean_squared_error: 0.0346 - val_loss: 1.5453 - val_acc: 0.3730 - val_mean_squared_error: 0.0338\n",
      "Epoch 4/120\n",
      "10000/10000 [==============================] - 2s - loss: 1.5361 - acc: 0.3872 - mean_squared_error: 0.0335 - val_loss: 1.4993 - val_acc: 0.4140 - val_mean_squared_error: 0.0328\n",
      "Epoch 5/120\n",
      "10000/10000 [==============================] - 2s - loss: 1.4956 - acc: 0.4165 - mean_squared_error: 0.0327 - val_loss: 1.4195 - val_acc: 0.4530 - val_mean_squared_error: 0.0312\n",
      "Epoch 6/120\n",
      "10000/10000 [==============================] - 2s - loss: 1.4400 - acc: 0.4504 - mean_squared_error: 0.0317 - val_loss: 1.3621 - val_acc: 0.4820 - val_mean_squared_error: 0.0302\n",
      "Epoch 7/120\n",
      "10000/10000 [==============================] - 2s - loss: 1.3975 - acc: 0.4637 - mean_squared_error: 0.0310 - val_loss: 1.3394 - val_acc: 0.4940 - val_mean_squared_error: 0.0298\n",
      "Epoch 8/120\n",
      "10000/10000 [==============================] - 2s - loss: 1.3830 - acc: 0.4641 - mean_squared_error: 0.0307 - val_loss: 1.3251 - val_acc: 0.4930 - val_mean_squared_error: 0.0296\n",
      "Epoch 9/120\n",
      "10000/10000 [==============================] - 2s - loss: 1.3696 - acc: 0.4671 - mean_squared_error: 0.0306 - val_loss: 1.3463 - val_acc: 0.4940 - val_mean_squared_error: 0.0298\n",
      "Epoch 10/120\n",
      "10000/10000 [==============================] - 2s - loss: 1.3562 - acc: 0.4711 - mean_squared_error: 0.0304 - val_loss: 1.3195 - val_acc: 0.4850 - val_mean_squared_error: 0.0297\n",
      "Epoch 11/120\n",
      "10000/10000 [==============================] - 2s - loss: 1.3464 - acc: 0.4738 - mean_squared_error: 0.0302 - val_loss: 1.3041 - val_acc: 0.4810 - val_mean_squared_error: 0.0293\n",
      "Epoch 12/120\n",
      "10000/10000 [==============================] - 2s - loss: 1.3353 - acc: 0.4800 - mean_squared_error: 0.0301 - val_loss: 1.3185 - val_acc: 0.5010 - val_mean_squared_error: 0.0293\n",
      "Epoch 13/120\n",
      "10000/10000 [==============================] - 2s - loss: 1.3310 - acc: 0.4816 - mean_squared_error: 0.0300 - val_loss: 1.3006 - val_acc: 0.5020 - val_mean_squared_error: 0.0291\n",
      "Epoch 14/120\n",
      "10000/10000 [==============================] - 2s - loss: 1.3286 - acc: 0.4847 - mean_squared_error: 0.0300 - val_loss: 1.3096 - val_acc: 0.4910 - val_mean_squared_error: 0.0295\n",
      "Epoch 15/120\n",
      "10000/10000 [==============================] - 2s - loss: 1.3138 - acc: 0.4874 - mean_squared_error: 0.0297 - val_loss: 1.2731 - val_acc: 0.5220 - val_mean_squared_error: 0.0287\n",
      "Epoch 16/120\n",
      "10000/10000 [==============================] - 2s - loss: 1.3059 - acc: 0.4910 - mean_squared_error: 0.0296 - val_loss: 1.2500 - val_acc: 0.5150 - val_mean_squared_error: 0.0284\n",
      "Epoch 17/120\n",
      "10000/10000 [==============================] - 2s - loss: 1.2979 - acc: 0.4920 - mean_squared_error: 0.0295 - val_loss: 1.2627 - val_acc: 0.5050 - val_mean_squared_error: 0.0288\n",
      "Epoch 18/120\n",
      "10000/10000 [==============================] - 2s - loss: 1.2868 - acc: 0.4987 - mean_squared_error: 0.0293 - val_loss: 1.2503 - val_acc: 0.5160 - val_mean_squared_error: 0.0284\n",
      "Epoch 19/120\n",
      "10000/10000 [==============================] - 2s - loss: 1.2748 - acc: 0.5018 - mean_squared_error: 0.0291 - val_loss: 1.2741 - val_acc: 0.4870 - val_mean_squared_error: 0.0292\n",
      "Epoch 20/120\n",
      "10000/10000 [==============================] - 2s - loss: 1.2705 - acc: 0.5043 - mean_squared_error: 0.0291 - val_loss: 1.2322 - val_acc: 0.5320 - val_mean_squared_error: 0.0281\n",
      "Epoch 21/120\n",
      "10000/10000 [==============================] - 2s - loss: 1.2582 - acc: 0.5044 - mean_squared_error: 0.0289 - val_loss: 1.2144 - val_acc: 0.5260 - val_mean_squared_error: 0.0280\n",
      "Epoch 22/120\n",
      "10000/10000 [==============================] - 2s - loss: 1.2589 - acc: 0.5079 - mean_squared_error: 0.0290 - val_loss: 1.2420 - val_acc: 0.5180 - val_mean_squared_error: 0.0284\n",
      "Epoch 23/120\n",
      "10000/10000 [==============================] - 2s - loss: 1.2541 - acc: 0.5096 - mean_squared_error: 0.0289 - val_loss: 1.2059 - val_acc: 0.5190 - val_mean_squared_error: 0.0278\n",
      "Epoch 24/120\n",
      "10000/10000 [==============================] - 2s - loss: 1.2444 - acc: 0.5180 - mean_squared_error: 0.0287 - val_loss: 1.2191 - val_acc: 0.5240 - val_mean_squared_error: 0.0280\n",
      "Epoch 25/120\n",
      "10000/10000 [==============================] - 2s - loss: 1.2312 - acc: 0.5145 - mean_squared_error: 0.0285 - val_loss: 1.1980 - val_acc: 0.5250 - val_mean_squared_error: 0.0277\n",
      "Epoch 26/120\n",
      "10000/10000 [==============================] - 2s - loss: 1.2339 - acc: 0.5184 - mean_squared_error: 0.0285 - val_loss: 1.2198 - val_acc: 0.5210 - val_mean_squared_error: 0.0280\n",
      "Epoch 27/120\n",
      "10000/10000 [==============================] - 2s - loss: 1.2323 - acc: 0.5109 - mean_squared_error: 0.0285 - val_loss: 1.1979 - val_acc: 0.5260 - val_mean_squared_error: 0.0278\n",
      "Epoch 28/120\n",
      "10000/10000 [==============================] - 2s - loss: 1.2237 - acc: 0.5219 - mean_squared_error: 0.0284 - val_loss: 1.1982 - val_acc: 0.5310 - val_mean_squared_error: 0.0279\n",
      "Epoch 29/120\n",
      "10000/10000 [==============================] - 2s - loss: 1.2257 - acc: 0.5186 - mean_squared_error: 0.0284 - val_loss: 1.1922 - val_acc: 0.5270 - val_mean_squared_error: 0.0277\n",
      "Epoch 30/120\n",
      "10000/10000 [==============================] - 2s - loss: 1.2182 - acc: 0.5203 - mean_squared_error: 0.0283 - val_loss: 1.2050 - val_acc: 0.5230 - val_mean_squared_error: 0.0278\n",
      "Epoch 31/120\n",
      "10000/10000 [==============================] - 2s - loss: 1.2114 - acc: 0.5212 - mean_squared_error: 0.0282 - val_loss: 1.2032 - val_acc: 0.5230 - val_mean_squared_error: 0.0279\n",
      "Epoch 32/120\n",
      "10000/10000 [==============================] - 2s - loss: 1.2065 - acc: 0.5201 - mean_squared_error: 0.0281 - val_loss: 1.1981 - val_acc: 0.5280 - val_mean_squared_error: 0.0278\n",
      "Epoch 33/120\n",
      "10000/10000 [==============================] - 2s - loss: 1.2029 - acc: 0.5166 - mean_squared_error: 0.0281 - val_loss: 1.1915 - val_acc: 0.5180 - val_mean_squared_error: 0.0278\n",
      "Epoch 34/120\n",
      "10000/10000 [==============================] - 2s - loss: 1.1946 - acc: 0.5265 - mean_squared_error: 0.0279 - val_loss: 1.1924 - val_acc: 0.5250 - val_mean_squared_error: 0.0278\n",
      "Epoch 35/120\n",
      "10000/10000 [==============================] - 2s - loss: 1.1950 - acc: 0.5268 - mean_squared_error: 0.0279 - val_loss: 1.2106 - val_acc: 0.5190 - val_mean_squared_error: 0.0279\n",
      "Epoch 36/120\n",
      "10000/10000 [==============================] - 2s - loss: 1.1933 - acc: 0.5310 - mean_squared_error: 0.0278 - val_loss: 1.1898 - val_acc: 0.5330 - val_mean_squared_error: 0.0278\n",
      "Epoch 37/120\n",
      "10000/10000 [==============================] - 2s - loss: 1.1789 - acc: 0.5272 - mean_squared_error: 0.0277 - val_loss: 1.1976 - val_acc: 0.5260 - val_mean_squared_error: 0.0278\n",
      "Epoch 38/120\n",
      "10000/10000 [==============================] - 2s - loss: 1.1801 - acc: 0.5306 - mean_squared_error: 0.0277 - val_loss: 1.1894 - val_acc: 0.5240 - val_mean_squared_error: 0.0277\n",
      "Epoch 39/120\n",
      "10000/10000 [==============================] - 2s - loss: 1.1787 - acc: 0.5265 - mean_squared_error: 0.0277 - val_loss: 1.1812 - val_acc: 0.5220 - val_mean_squared_error: 0.0276\n",
      "Epoch 40/120\n",
      "10000/10000 [==============================] - 2s - loss: 1.1678 - acc: 0.5336 - mean_squared_error: 0.0274 - val_loss: 1.2104 - val_acc: 0.5220 - val_mean_squared_error: 0.0280\n",
      "Epoch 41/120\n",
      "10000/10000 [==============================] - 2s - loss: 1.1623 - acc: 0.5312 - mean_squared_error: 0.0274 - val_loss: 1.1831 - val_acc: 0.5260 - val_mean_squared_error: 0.0276\n",
      "Epoch 42/120\n",
      "10000/10000 [==============================] - 2s - loss: 1.1650 - acc: 0.5338 - mean_squared_error: 0.0274 - val_loss: 1.1724 - val_acc: 0.5250 - val_mean_squared_error: 0.0274\n",
      "Epoch 43/120\n"
     ]
    },
    {
     "name": "stdout",
     "output_type": "stream",
     "text": [
      "10000/10000 [==============================] - 2s - loss: 1.1569 - acc: 0.5336 - mean_squared_error: 0.0273 - val_loss: 1.1801 - val_acc: 0.5180 - val_mean_squared_error: 0.0275\n",
      "Epoch 44/120\n",
      "10000/10000 [==============================] - 2s - loss: 1.1374 - acc: 0.5423 - mean_squared_error: 0.0269 - val_loss: 1.2079 - val_acc: 0.5090 - val_mean_squared_error: 0.0278\n",
      "Epoch 45/120\n",
      "10000/10000 [==============================] - 2s - loss: 1.1380 - acc: 0.5427 - mean_squared_error: 0.0268 - val_loss: 1.1605 - val_acc: 0.5360 - val_mean_squared_error: 0.0269\n",
      "Epoch 46/120\n",
      "10000/10000 [==============================] - 2s - loss: 1.1144 - acc: 0.5537 - mean_squared_error: 0.0262 - val_loss: 1.1365 - val_acc: 0.5500 - val_mean_squared_error: 0.0262\n",
      "Epoch 47/120\n",
      "10000/10000 [==============================] - 2s - loss: 1.0922 - acc: 0.5711 - mean_squared_error: 0.0256 - val_loss: 1.1282 - val_acc: 0.5680 - val_mean_squared_error: 0.0256\n",
      "Epoch 48/120\n",
      "10000/10000 [==============================] - 2s - loss: 1.0821 - acc: 0.5768 - mean_squared_error: 0.0252 - val_loss: 1.0571 - val_acc: 0.5980 - val_mean_squared_error: 0.0238\n",
      "Epoch 49/120\n",
      "10000/10000 [==============================] - 2s - loss: 1.0289 - acc: 0.6013 - mean_squared_error: 0.0239 - val_loss: 1.0223 - val_acc: 0.6220 - val_mean_squared_error: 0.0225\n",
      "Epoch 50/120\n",
      "10000/10000 [==============================] - 2s - loss: 0.9988 - acc: 0.6193 - mean_squared_error: 0.0230 - val_loss: 0.9580 - val_acc: 0.6440 - val_mean_squared_error: 0.0210\n",
      "Epoch 51/120\n",
      "10000/10000 [==============================] - 2s - loss: 0.9492 - acc: 0.6527 - mean_squared_error: 0.0215 - val_loss: 0.8995 - val_acc: 0.6740 - val_mean_squared_error: 0.0193\n",
      "Epoch 52/120\n",
      "10000/10000 [==============================] - 2s - loss: 0.8978 - acc: 0.6731 - mean_squared_error: 0.0201 - val_loss: 0.8597 - val_acc: 0.7070 - val_mean_squared_error: 0.0183\n",
      "Epoch 53/120\n",
      "10000/10000 [==============================] - 2s - loss: 0.8424 - acc: 0.6924 - mean_squared_error: 0.0189 - val_loss: 0.8009 - val_acc: 0.7210 - val_mean_squared_error: 0.0169\n",
      "Epoch 54/120\n",
      "10000/10000 [==============================] - 2s - loss: 0.8120 - acc: 0.7116 - mean_squared_error: 0.0181 - val_loss: 0.7721 - val_acc: 0.7280 - val_mean_squared_error: 0.0165\n",
      "Epoch 55/120\n",
      "10000/10000 [==============================] - 2s - loss: 0.7760 - acc: 0.7187 - mean_squared_error: 0.0173 - val_loss: 0.7781 - val_acc: 0.7180 - val_mean_squared_error: 0.0165\n",
      "Epoch 56/120\n",
      "10000/10000 [==============================] - 2s - loss: 0.7404 - acc: 0.7326 - mean_squared_error: 0.0164 - val_loss: 0.7410 - val_acc: 0.7350 - val_mean_squared_error: 0.0158\n",
      "Epoch 57/120\n",
      "10000/10000 [==============================] - 2s - loss: 0.7193 - acc: 0.7445 - mean_squared_error: 0.0159 - val_loss: 0.7037 - val_acc: 0.7440 - val_mean_squared_error: 0.0150\n",
      "Epoch 58/120\n",
      "10000/10000 [==============================] - 2s - loss: 0.6992 - acc: 0.7447 - mean_squared_error: 0.0156 - val_loss: 0.6884 - val_acc: 0.7570 - val_mean_squared_error: 0.0147\n",
      "Epoch 59/120\n",
      "10000/10000 [==============================] - 2s - loss: 0.6800 - acc: 0.7541 - mean_squared_error: 0.0151 - val_loss: 0.6820 - val_acc: 0.7580 - val_mean_squared_error: 0.0145\n",
      "Epoch 60/120\n",
      "10000/10000 [==============================] - 2s - loss: 0.6731 - acc: 0.7544 - mean_squared_error: 0.0151 - val_loss: 0.6794 - val_acc: 0.7510 - val_mean_squared_error: 0.0145\n",
      "Epoch 61/120\n",
      "10000/10000 [==============================] - 2s - loss: 0.6456 - acc: 0.7663 - mean_squared_error: 0.0144 - val_loss: 0.7162 - val_acc: 0.7450 - val_mean_squared_error: 0.0153\n",
      "Epoch 62/120\n",
      "10000/10000 [==============================] - 2s - loss: 0.6365 - acc: 0.7708 - mean_squared_error: 0.0142 - val_loss: 0.6506 - val_acc: 0.7730 - val_mean_squared_error: 0.0138\n",
      "Epoch 63/120\n",
      "10000/10000 [==============================] - 2s - loss: 0.6251 - acc: 0.7747 - mean_squared_error: 0.0139 - val_loss: 0.6612 - val_acc: 0.7550 - val_mean_squared_error: 0.0140\n",
      "Epoch 64/120\n",
      "10000/10000 [==============================] - 2s - loss: 0.6114 - acc: 0.7779 - mean_squared_error: 0.0136 - val_loss: 0.6175 - val_acc: 0.7730 - val_mean_squared_error: 0.0132\n",
      "Epoch 65/120\n",
      "10000/10000 [==============================] - 2s - loss: 0.6004 - acc: 0.7779 - mean_squared_error: 0.0135 - val_loss: 0.6259 - val_acc: 0.7710 - val_mean_squared_error: 0.0133\n",
      "Epoch 66/120\n",
      "10000/10000 [==============================] - 2s - loss: 0.5878 - acc: 0.7863 - mean_squared_error: 0.0132 - val_loss: 0.5939 - val_acc: 0.7870 - val_mean_squared_error: 0.0126\n",
      "Epoch 67/120\n",
      "10000/10000 [==============================] - 2s - loss: 0.5663 - acc: 0.7952 - mean_squared_error: 0.0127 - val_loss: 0.5884 - val_acc: 0.7920 - val_mean_squared_error: 0.0126\n",
      "Epoch 68/120\n",
      "10000/10000 [==============================] - 2s - loss: 0.5508 - acc: 0.7988 - mean_squared_error: 0.0123 - val_loss: 0.5802 - val_acc: 0.7960 - val_mean_squared_error: 0.0123\n",
      "Epoch 69/120\n",
      "10000/10000 [==============================] - 2s - loss: 0.5460 - acc: 0.8021 - mean_squared_error: 0.0122 - val_loss: 0.5638 - val_acc: 0.8030 - val_mean_squared_error: 0.0119\n",
      "Epoch 70/120\n",
      "10000/10000 [==============================] - 2s - loss: 0.5307 - acc: 0.8075 - mean_squared_error: 0.0118 - val_loss: 0.5476 - val_acc: 0.8040 - val_mean_squared_error: 0.0116\n",
      "Epoch 71/120\n",
      "10000/10000 [==============================] - 2s - loss: 0.5135 - acc: 0.8137 - mean_squared_error: 0.0114 - val_loss: 0.5477 - val_acc: 0.8040 - val_mean_squared_error: 0.0117\n",
      "Epoch 72/120\n",
      "10000/10000 [==============================] - 2s - loss: 0.5098 - acc: 0.8124 - mean_squared_error: 0.0114 - val_loss: 0.5357 - val_acc: 0.8100 - val_mean_squared_error: 0.0113\n",
      "Epoch 73/120\n",
      "10000/10000 [==============================] - 2s - loss: 0.4943 - acc: 0.8223 - mean_squared_error: 0.0111 - val_loss: 0.5237 - val_acc: 0.8110 - val_mean_squared_error: 0.0111\n",
      "Epoch 74/120\n",
      "10000/10000 [==============================] - 2s - loss: 0.4817 - acc: 0.8252 - mean_squared_error: 0.0108 - val_loss: 0.5314 - val_acc: 0.8110 - val_mean_squared_error: 0.0113\n",
      "Epoch 75/120\n",
      "10000/10000 [==============================] - 2s - loss: 0.4836 - acc: 0.8274 - mean_squared_error: 0.0108 - val_loss: 0.5093 - val_acc: 0.8170 - val_mean_squared_error: 0.0108\n",
      "Epoch 76/120\n",
      "10000/10000 [==============================] - 2s - loss: 0.4659 - acc: 0.8337 - mean_squared_error: 0.0105 - val_loss: 0.5078 - val_acc: 0.8250 - val_mean_squared_error: 0.0107\n",
      "Epoch 77/120\n",
      "10000/10000 [==============================] - 2s - loss: 0.4645 - acc: 0.8303 - mean_squared_error: 0.0105 - val_loss: 0.4826 - val_acc: 0.8240 - val_mean_squared_error: 0.0103\n",
      "Epoch 78/120\n",
      "10000/10000 [==============================] - 2s - loss: 0.4509 - acc: 0.8344 - mean_squared_error: 0.0101 - val_loss: 0.4995 - val_acc: 0.8240 - val_mean_squared_error: 0.0106\n",
      "Epoch 79/120\n",
      "10000/10000 [==============================] - 2s - loss: 0.4536 - acc: 0.8364 - mean_squared_error: 0.0101 - val_loss: 0.4811 - val_acc: 0.8280 - val_mean_squared_error: 0.0103\n",
      "Epoch 80/120\n",
      "10000/10000 [==============================] - 2s - loss: 0.4473 - acc: 0.8342 - mean_squared_error: 0.0101 - val_loss: 0.4684 - val_acc: 0.8390 - val_mean_squared_error: 0.0101\n",
      "Epoch 81/120\n",
      "10000/10000 [==============================] - 2s - loss: 0.4261 - acc: 0.8451 - mean_squared_error: 0.0096 - val_loss: 0.4690 - val_acc: 0.8300 - val_mean_squared_error: 0.0101\n",
      "Epoch 82/120\n",
      "10000/10000 [==============================] - 2s - loss: 0.4320 - acc: 0.8432 - mean_squared_error: 0.0097 - val_loss: 0.4879 - val_acc: 0.8210 - val_mean_squared_error: 0.0105\n",
      "Epoch 83/120\n",
      "10000/10000 [==============================] - 2s - loss: 0.4324 - acc: 0.8436 - mean_squared_error: 0.0097 - val_loss: 0.4843 - val_acc: 0.8280 - val_mean_squared_error: 0.0103\n",
      "Epoch 84/120\n",
      "10000/10000 [==============================] - 2s - loss: 0.4160 - acc: 0.8461 - mean_squared_error: 0.0094 - val_loss: 0.4833 - val_acc: 0.8280 - val_mean_squared_error: 0.0103\n",
      "Epoch 85/120\n"
     ]
    },
    {
     "name": "stdout",
     "output_type": "stream",
     "text": [
      "10000/10000 [==============================] - 2s - loss: 0.4105 - acc: 0.8513 - mean_squared_error: 0.0093 - val_loss: 0.4752 - val_acc: 0.8320 - val_mean_squared_error: 0.0101\n",
      "Epoch 86/120\n",
      "10000/10000 [==============================] - 2s - loss: 0.4101 - acc: 0.8517 - mean_squared_error: 0.0093 - val_loss: 0.4614 - val_acc: 0.8380 - val_mean_squared_error: 0.0098\n",
      "Epoch 87/120\n",
      "10000/10000 [==============================] - 2s - loss: 0.4036 - acc: 0.8534 - mean_squared_error: 0.0091 - val_loss: 0.4489 - val_acc: 0.8360 - val_mean_squared_error: 0.0097\n",
      "Epoch 88/120\n",
      "10000/10000 [==============================] - 2s - loss: 0.3960 - acc: 0.8540 - mean_squared_error: 0.0090 - val_loss: 0.4615 - val_acc: 0.8290 - val_mean_squared_error: 0.0100\n",
      "Epoch 89/120\n",
      "10000/10000 [==============================] - 2s - loss: 0.4020 - acc: 0.8530 - mean_squared_error: 0.0092 - val_loss: 0.4453 - val_acc: 0.8420 - val_mean_squared_error: 0.0097\n",
      "Epoch 90/120\n",
      "10000/10000 [==============================] - 2s - loss: 0.3885 - acc: 0.8573 - mean_squared_error: 0.0089 - val_loss: 0.4510 - val_acc: 0.8480 - val_mean_squared_error: 0.0097\n",
      "Epoch 91/120\n",
      "10000/10000 [==============================] - 2s - loss: 0.3836 - acc: 0.8578 - mean_squared_error: 0.0088 - val_loss: 0.4521 - val_acc: 0.8320 - val_mean_squared_error: 0.0098\n",
      "Epoch 92/120\n",
      "10000/10000 [==============================] - 2s - loss: 0.3777 - acc: 0.8596 - mean_squared_error: 0.0086 - val_loss: 0.4475 - val_acc: 0.8370 - val_mean_squared_error: 0.0097\n",
      "Epoch 93/120\n",
      "10000/10000 [==============================] - 2s - loss: 0.3714 - acc: 0.8619 - mean_squared_error: 0.0086 - val_loss: 0.4717 - val_acc: 0.8380 - val_mean_squared_error: 0.0100\n",
      "Epoch 94/120\n",
      "10000/10000 [==============================] - 2s - loss: 0.3830 - acc: 0.8619 - mean_squared_error: 0.0087 - val_loss: 0.4431 - val_acc: 0.8420 - val_mean_squared_error: 0.0096\n",
      "Epoch 95/120\n",
      "10000/10000 [==============================] - 2s - loss: 0.3748 - acc: 0.8634 - mean_squared_error: 0.0086 - val_loss: 0.4342 - val_acc: 0.8540 - val_mean_squared_error: 0.0094\n",
      "Epoch 96/120\n",
      "10000/10000 [==============================] - 2s - loss: 0.3659 - acc: 0.8674 - mean_squared_error: 0.0084 - val_loss: 0.4384 - val_acc: 0.8490 - val_mean_squared_error: 0.0094\n",
      "Epoch 97/120\n",
      "10000/10000 [==============================] - 2s - loss: 0.3618 - acc: 0.8641 - mean_squared_error: 0.0083 - val_loss: 0.4430 - val_acc: 0.8390 - val_mean_squared_error: 0.0097\n",
      "Epoch 98/120\n",
      "10000/10000 [==============================] - 2s - loss: 0.3580 - acc: 0.8672 - mean_squared_error: 0.0083 - val_loss: 0.4405 - val_acc: 0.8460 - val_mean_squared_error: 0.0096\n",
      "Epoch 99/120\n",
      "10000/10000 [==============================] - 2s - loss: 0.3641 - acc: 0.8694 - mean_squared_error: 0.0083 - val_loss: 0.4557 - val_acc: 0.8370 - val_mean_squared_error: 0.0099\n",
      "Epoch 100/120\n",
      "10000/10000 [==============================] - 2s - loss: 0.3524 - acc: 0.8719 - mean_squared_error: 0.0081 - val_loss: 0.4318 - val_acc: 0.8420 - val_mean_squared_error: 0.0094\n",
      "Epoch 101/120\n",
      "10000/10000 [==============================] - 2s - loss: 0.3575 - acc: 0.8724 - mean_squared_error: 0.0081 - val_loss: 0.4493 - val_acc: 0.8450 - val_mean_squared_error: 0.0098\n",
      "Epoch 102/120\n",
      "10000/10000 [==============================] - 2s - loss: 0.3481 - acc: 0.8740 - mean_squared_error: 0.0080 - val_loss: 0.4268 - val_acc: 0.8480 - val_mean_squared_error: 0.0092\n",
      "Epoch 103/120\n",
      "10000/10000 [==============================] - 2s - loss: 0.3392 - acc: 0.8748 - mean_squared_error: 0.0078 - val_loss: 0.4417 - val_acc: 0.8500 - val_mean_squared_error: 0.0095\n",
      "Epoch 104/120\n",
      "10000/10000 [==============================] - 2s - loss: 0.3435 - acc: 0.8733 - mean_squared_error: 0.0080 - val_loss: 0.4392 - val_acc: 0.8470 - val_mean_squared_error: 0.0095\n",
      "Epoch 105/120\n",
      "10000/10000 [==============================] - 2s - loss: 0.3405 - acc: 0.8772 - mean_squared_error: 0.0079 - val_loss: 0.4393 - val_acc: 0.8460 - val_mean_squared_error: 0.0095\n",
      "Epoch 106/120\n",
      "10000/10000 [==============================] - 2s - loss: 0.3359 - acc: 0.8765 - mean_squared_error: 0.0077 - val_loss: 0.4508 - val_acc: 0.8360 - val_mean_squared_error: 0.0098\n",
      "Epoch 107/120\n",
      "10000/10000 [==============================] - 2s - loss: 0.3328 - acc: 0.8762 - mean_squared_error: 0.0078 - val_loss: 0.4603 - val_acc: 0.8370 - val_mean_squared_error: 0.0099\n",
      "Epoch 108/120\n",
      "10000/10000 [==============================] - 2s - loss: 0.3375 - acc: 0.8765 - mean_squared_error: 0.0078 - val_loss: 0.4319 - val_acc: 0.8530 - val_mean_squared_error: 0.0094\n",
      "Epoch 109/120\n",
      "10000/10000 [==============================] - 2s - loss: 0.3211 - acc: 0.8826 - mean_squared_error: 0.0074 - val_loss: 0.4305 - val_acc: 0.8500 - val_mean_squared_error: 0.0093\n",
      "Epoch 110/120\n",
      "10000/10000 [==============================] - 2s - loss: 0.3264 - acc: 0.8801 - mean_squared_error: 0.0076 - val_loss: 0.4325 - val_acc: 0.8500 - val_mean_squared_error: 0.0094\n",
      "Epoch 111/120\n",
      "10000/10000 [==============================] - 2s - loss: 0.3202 - acc: 0.8869 - mean_squared_error: 0.0073 - val_loss: 0.4448 - val_acc: 0.8380 - val_mean_squared_error: 0.0097\n",
      "Epoch 112/120\n",
      "10000/10000 [==============================] - 2s - loss: 0.3150 - acc: 0.8853 - mean_squared_error: 0.0073 - val_loss: 0.4382 - val_acc: 0.8490 - val_mean_squared_error: 0.0093\n",
      "Epoch 113/120\n",
      "10000/10000 [==============================] - 2s - loss: 0.3232 - acc: 0.8821 - mean_squared_error: 0.0075 - val_loss: 0.4331 - val_acc: 0.8500 - val_mean_squared_error: 0.0094\n",
      "Epoch 114/120\n",
      "10000/10000 [==============================] - 2s - loss: 0.3108 - acc: 0.8839 - mean_squared_error: 0.0072 - val_loss: 0.4526 - val_acc: 0.8520 - val_mean_squared_error: 0.0096\n",
      "Epoch 115/120\n",
      "10000/10000 [==============================] - 2s - loss: 0.3110 - acc: 0.8875 - mean_squared_error: 0.0071 - val_loss: 0.4370 - val_acc: 0.8470 - val_mean_squared_error: 0.0094\n",
      "Epoch 116/120\n",
      "10000/10000 [==============================] - 2s - loss: 0.3172 - acc: 0.8832 - mean_squared_error: 0.0074 - val_loss: 0.4402 - val_acc: 0.8390 - val_mean_squared_error: 0.0095\n",
      "Epoch 117/120\n",
      "10000/10000 [==============================] - 2s - loss: 0.3114 - acc: 0.8900 - mean_squared_error: 0.0071 - val_loss: 0.4364 - val_acc: 0.8470 - val_mean_squared_error: 0.0094\n",
      "Epoch 118/120\n",
      "10000/10000 [==============================] - 2s - loss: 0.3096 - acc: 0.8858 - mean_squared_error: 0.0071 - val_loss: 0.4317 - val_acc: 0.8530 - val_mean_squared_error: 0.0093\n",
      "Epoch 119/120\n",
      "10000/10000 [==============================] - 2s - loss: 0.3104 - acc: 0.8844 - mean_squared_error: 0.0073 - val_loss: 0.4331 - val_acc: 0.8500 - val_mean_squared_error: 0.0093\n",
      "Epoch 120/120\n",
      "10000/10000 [==============================] - 2s - loss: 0.3115 - acc: 0.8849 - mean_squared_error: 0.0072 - val_loss: 0.4265 - val_acc: 0.8500 - val_mean_squared_error: 0.0092\n"
     ]
    },
    {
     "data": {
      "text/plain": [
       "<keras.callbacks.History at 0x7fb830c3fcd0>"
      ]
     },
     "execution_count": 25,
     "metadata": {},
     "output_type": "execute_result"
    }
   ],
   "source": [
    "# train\n",
    "model.fit([inputs_train, queries_train], answers_train,\n",
    "          batch_size=32,\n",
    "          epochs=120,\n",
    "          validation_data=([inputs_test, queries_test], answers_test))"
   ]
  },
  {
   "cell_type": "code",
   "execution_count": 30,
   "metadata": {
    "collapsed": true
   },
   "outputs": [],
   "source": [
    "def vectorize_test_stories(data,query_maxlen):\n",
    "    vocab = set()\n",
    "    vocab |= set(data)\n",
    "    vocab = sorted(vocab)\n",
    "    word_idx = dict((c, i + 1) for i, c in enumerate(vocab))\n",
    "    Xq = []\n",
    "    for query in data:\n",
    "        xq = [word_idx[w] for w in query]\n",
    "        Xq.append(xq)\n",
    "    return pad_sequences(Xq, maxlen=query_maxlen)"
   ]
  },
  {
   "cell_type": "code",
   "execution_count": 32,
   "metadata": {},
   "outputs": [],
   "source": [
    "tst = vectorize_test_stories(\"where is Marry?\", query_maxlen)"
   ]
  },
  {
   "cell_type": "code",
   "execution_count": 33,
   "metadata": {},
   "outputs": [
    {
     "ename": "ValueError",
     "evalue": "The model expects 2 arrays, but only received one array. Found: array with shape (15, 4)",
     "output_type": "error",
     "traceback": [
      "\u001b[0;31m---------------------------------------------------------------------------\u001b[0m",
      "\u001b[0;31mValueError\u001b[0m                                Traceback (most recent call last)",
      "\u001b[0;32m<ipython-input-33-1ea06c9e0eca>\u001b[0m in \u001b[0;36m<module>\u001b[0;34m()\u001b[0m\n\u001b[0;32m----> 1\u001b[0;31m \u001b[0mmodel\u001b[0m\u001b[0;34m.\u001b[0m\u001b[0mpredict\u001b[0m\u001b[0;34m(\u001b[0m\u001b[0mtst\u001b[0m\u001b[0;34m)\u001b[0m\u001b[0;34m\u001b[0m\u001b[0m\n\u001b[0m",
      "\u001b[0;32m/usr/local/lib/python2.7/dist-packages/keras/engine/training.pyc\u001b[0m in \u001b[0;36mpredict\u001b[0;34m(self, x, batch_size, verbose)\u001b[0m\n\u001b[1;32m   1574\u001b[0m         x = _standardize_input_data(x, self._feed_input_names,\n\u001b[1;32m   1575\u001b[0m                                     \u001b[0mself\u001b[0m\u001b[0;34m.\u001b[0m\u001b[0m_feed_input_shapes\u001b[0m\u001b[0;34m,\u001b[0m\u001b[0;34m\u001b[0m\u001b[0m\n\u001b[0;32m-> 1576\u001b[0;31m                                     check_batch_axis=False)\n\u001b[0m\u001b[1;32m   1577\u001b[0m         \u001b[0;32mif\u001b[0m \u001b[0mself\u001b[0m\u001b[0;34m.\u001b[0m\u001b[0mstateful\u001b[0m\u001b[0;34m:\u001b[0m\u001b[0;34m\u001b[0m\u001b[0m\n\u001b[1;32m   1578\u001b[0m             \u001b[0;32mif\u001b[0m \u001b[0mx\u001b[0m\u001b[0;34m[\u001b[0m\u001b[0;36m0\u001b[0m\u001b[0;34m]\u001b[0m\u001b[0;34m.\u001b[0m\u001b[0mshape\u001b[0m\u001b[0;34m[\u001b[0m\u001b[0;36m0\u001b[0m\u001b[0;34m]\u001b[0m \u001b[0;34m>\u001b[0m \u001b[0mbatch_size\u001b[0m \u001b[0;32mand\u001b[0m \u001b[0mx\u001b[0m\u001b[0;34m[\u001b[0m\u001b[0;36m0\u001b[0m\u001b[0;34m]\u001b[0m\u001b[0;34m.\u001b[0m\u001b[0mshape\u001b[0m\u001b[0;34m[\u001b[0m\u001b[0;36m0\u001b[0m\u001b[0;34m]\u001b[0m \u001b[0;34m%\u001b[0m \u001b[0mbatch_size\u001b[0m \u001b[0;34m!=\u001b[0m \u001b[0;36m0\u001b[0m\u001b[0;34m:\u001b[0m\u001b[0;34m\u001b[0m\u001b[0m\n",
      "\u001b[0;32m/usr/local/lib/python2.7/dist-packages/keras/engine/training.pyc\u001b[0m in \u001b[0;36m_standardize_input_data\u001b[0;34m(data, names, shapes, check_batch_axis, exception_prefix)\u001b[0m\n\u001b[1;32m    104\u001b[0m                              \u001b[0mexception_prefix\u001b[0m \u001b[0;34m+\u001b[0m\u001b[0;34m\u001b[0m\u001b[0m\n\u001b[1;32m    105\u001b[0m                              \u001b[0;34m' arrays, but only received one array. '\u001b[0m\u001b[0;34m\u001b[0m\u001b[0m\n\u001b[0;32m--> 106\u001b[0;31m                              'Found: array with shape ' + str(data.shape))\n\u001b[0m\u001b[1;32m    107\u001b[0m         \u001b[0marrays\u001b[0m \u001b[0;34m=\u001b[0m \u001b[0;34m[\u001b[0m\u001b[0mdata\u001b[0m\u001b[0;34m]\u001b[0m\u001b[0;34m\u001b[0m\u001b[0m\n\u001b[1;32m    108\u001b[0m \u001b[0;34m\u001b[0m\u001b[0m\n",
      "\u001b[0;31mValueError\u001b[0m: The model expects 2 arrays, but only received one array. Found: array with shape (15, 4)"
     ]
    }
   ],
   "source": [
    "model.predict(tst)"
   ]
  },
  {
   "cell_type": "code",
   "execution_count": null,
   "metadata": {
    "collapsed": true
   },
   "outputs": [],
   "source": []
  }
 ],
 "metadata": {
  "kernelspec": {
   "display_name": "Python 2",
   "language": "python",
   "name": "python2"
  },
  "language_info": {
   "codemirror_mode": {
    "name": "ipython",
    "version": 2
   },
   "file_extension": ".py",
   "mimetype": "text/x-python",
   "name": "python",
   "nbconvert_exporter": "python",
   "pygments_lexer": "ipython2",
   "version": "2.7.6"
  }
 },
 "nbformat": 4,
 "nbformat_minor": 2
}
